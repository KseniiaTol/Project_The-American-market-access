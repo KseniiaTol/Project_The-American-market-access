{
 "cells": [
  {
   "cell_type": "code",
   "execution_count": 26,
   "metadata": {
    "executionInfo": {
     "elapsed": 992,
     "status": "ok",
     "timestamp": 1692330988239,
     "user": {
      "displayName": "Владислав Корнилов",
      "userId": "06643508509025628893"
     },
     "user_tz": -180
    },
    "id": "ef8ac616",
    "scrolled": true
   },
   "outputs": [],
   "source": [
    "# Импорт необходимых библиотек\n",
    "\n",
    "import pandas as pd\n",
    "import numpy as np\n",
    "import matplotlib.pyplot as plt\n",
    "%matplotlib inline"
   ]
  },
  {
   "cell_type": "code",
   "execution_count": 27,
   "metadata": {
    "executionInfo": {
     "elapsed": 653,
     "status": "ok",
     "timestamp": 1692331057863,
     "user": {
      "displayName": "Владислав Корнилов",
      "userId": "06643508509025628893"
     },
     "user_tz": -180
    },
    "id": "c7a6ee9a"
   },
   "outputs": [],
   "source": [
    "# Загрузка датасета с данными за 2019 г.\n",
    "\n",
    "df = pd.read_csv(\"Datafiniti_Fast_Food_Restaurants_May19.csv\")"
   ]
  },
  {
   "cell_type": "markdown",
   "metadata": {
    "id": "203b43bd"
   },
   "source": [
    "### 1. Знакомство с данными"
   ]
  },
  {
   "cell_type": "code",
   "execution_count": 28,
   "metadata": {
    "colab": {
     "base_uri": "https://localhost:8080/",
     "height": 399
    },
    "executionInfo": {
     "elapsed": 238,
     "status": "ok",
     "timestamp": 1692331095270,
     "user": {
      "displayName": "Владислав Корнилов",
      "userId": "06643508509025628893"
     },
     "user_tz": -180
    },
    "id": "ec810efb",
    "outputId": "438ce79c-177b-4a9c-ef49-1bc0e6f8a158"
   },
   "outputs": [
    {
     "data": {
      "text/html": [
       "<div>\n",
       "<style scoped>\n",
       "    .dataframe tbody tr th:only-of-type {\n",
       "        vertical-align: middle;\n",
       "    }\n",
       "\n",
       "    .dataframe tbody tr th {\n",
       "        vertical-align: top;\n",
       "    }\n",
       "\n",
       "    .dataframe thead th {\n",
       "        text-align: right;\n",
       "    }\n",
       "</style>\n",
       "<table border=\"1\" class=\"dataframe\">\n",
       "  <thead>\n",
       "    <tr style=\"text-align: right;\">\n",
       "      <th></th>\n",
       "      <th>id</th>\n",
       "      <th>dateAdded</th>\n",
       "      <th>dateUpdated</th>\n",
       "      <th>address</th>\n",
       "      <th>categories</th>\n",
       "      <th>primaryCategories</th>\n",
       "      <th>city</th>\n",
       "      <th>country</th>\n",
       "      <th>keys</th>\n",
       "      <th>latitude</th>\n",
       "      <th>longitude</th>\n",
       "      <th>name</th>\n",
       "      <th>postalCode</th>\n",
       "      <th>province</th>\n",
       "      <th>sourceURLs</th>\n",
       "      <th>websites</th>\n",
       "    </tr>\n",
       "  </thead>\n",
       "  <tbody>\n",
       "    <tr>\n",
       "      <th>0</th>\n",
       "      <td>AWrSh_KgsVYjT2BJAzaH</td>\n",
       "      <td>2019-05-19T23:58:05Z</td>\n",
       "      <td>2019-05-19T23:58:05Z</td>\n",
       "      <td>2555 11th Avenue</td>\n",
       "      <td>Fast Food Restaurants,Hamburgers and Hot Dogs,...</td>\n",
       "      <td>Accommodation &amp; Food Services</td>\n",
       "      <td>Greeley</td>\n",
       "      <td>US</td>\n",
       "      <td>us/co/greeley/255511thavenue/554191587</td>\n",
       "      <td>40.39629</td>\n",
       "      <td>-104.69699</td>\n",
       "      <td>Carl's Jr.</td>\n",
       "      <td>80631</td>\n",
       "      <td>CO</td>\n",
       "      <td>https://www.yellowpages.com/greeley-co/mip/car...</td>\n",
       "      <td>https://www.carlsjr.com/?utm_source=Yextandutm...</td>\n",
       "    </tr>\n",
       "    <tr>\n",
       "      <th>1</th>\n",
       "      <td>AWEKlA-LIxWefVJwxG9B</td>\n",
       "      <td>2018-01-18T18:30:23Z</td>\n",
       "      <td>2019-05-19T23:45:05Z</td>\n",
       "      <td>2513 Highway 6 And 50</td>\n",
       "      <td>Restaurant,Mexican Restaurants,Fast Food Resta...</td>\n",
       "      <td>Accommodation &amp; Food Services</td>\n",
       "      <td>Grand Junction</td>\n",
       "      <td>US</td>\n",
       "      <td>us/co/grandjunction/2513highway6and50/1550891556</td>\n",
       "      <td>39.08135</td>\n",
       "      <td>-108.58689</td>\n",
       "      <td>Del Taco</td>\n",
       "      <td>81505</td>\n",
       "      <td>CO</td>\n",
       "      <td>http://www.citysearch.com/profile/772076870/gr...</td>\n",
       "      <td>http://www.deltaco.com</td>\n",
       "    </tr>\n",
       "    <tr>\n",
       "      <th>2</th>\n",
       "      <td>AWrSfAcYsVYjT2BJAzPt</td>\n",
       "      <td>2019-05-19T23:45:04Z</td>\n",
       "      <td>2019-05-19T23:45:04Z</td>\n",
       "      <td>1125 Patterson Road</td>\n",
       "      <td>Sandwich Shops,Fast Food Restaurants,Restauran...</td>\n",
       "      <td>Accommodation &amp; Food Services</td>\n",
       "      <td>Grand Junction</td>\n",
       "      <td>US</td>\n",
       "      <td>us/co/grandjunction/1125pattersonroad/-2137447852</td>\n",
       "      <td>39.09148</td>\n",
       "      <td>-108.55411</td>\n",
       "      <td>Which Wich</td>\n",
       "      <td>81506</td>\n",
       "      <td>CO</td>\n",
       "      <td>https://www.yellowpages.com/grand-junction-co/...</td>\n",
       "      <td>http://www.whichwich.com</td>\n",
       "    </tr>\n",
       "    <tr>\n",
       "      <th>3</th>\n",
       "      <td>AWrSa3NAQTFama1Xpkbz</td>\n",
       "      <td>2019-05-19T23:26:58Z</td>\n",
       "      <td>2019-05-19T23:26:58Z</td>\n",
       "      <td>3455 N Salida Court</td>\n",
       "      <td>Fast Food Restaurants,Mexican Restaurants,Rest...</td>\n",
       "      <td>Accommodation &amp; Food Services</td>\n",
       "      <td>Aurora</td>\n",
       "      <td>US</td>\n",
       "      <td>us/co/aurora/3455nsalidacourt/1143321601</td>\n",
       "      <td>39.76369</td>\n",
       "      <td>-104.77671</td>\n",
       "      <td>Chipotle Mexican Grill</td>\n",
       "      <td>80011</td>\n",
       "      <td>CO</td>\n",
       "      <td>https://www.yellowpages.com/aurora-co/mip/chip...</td>\n",
       "      <td>http://www.chipotle.com</td>\n",
       "    </tr>\n",
       "    <tr>\n",
       "      <th>4</th>\n",
       "      <td>AWrSaVGzZ4Yw-wtdgcaB</td>\n",
       "      <td>2019-05-19T23:24:38Z</td>\n",
       "      <td>2019-05-19T23:24:38Z</td>\n",
       "      <td>5225 E Colfax Avenue</td>\n",
       "      <td>Fast Food Restaurants,Mexican Restaurants,Rest...</td>\n",
       "      <td>Accommodation &amp; Food Services</td>\n",
       "      <td>Denver</td>\n",
       "      <td>US</td>\n",
       "      <td>us/co/denver/5225ecolfaxavenue/-864103396</td>\n",
       "      <td>39.74044</td>\n",
       "      <td>-104.92636</td>\n",
       "      <td>Taco Bell</td>\n",
       "      <td>80220</td>\n",
       "      <td>CO</td>\n",
       "      <td>https://www.yellowpages.com/denver-co/mip/taco...</td>\n",
       "      <td>https://locations.tacobell.com/co/denver/5225-...</td>\n",
       "    </tr>\n",
       "  </tbody>\n",
       "</table>\n",
       "</div>"
      ],
      "text/plain": [
       "                     id             dateAdded           dateUpdated  \\\n",
       "0  AWrSh_KgsVYjT2BJAzaH  2019-05-19T23:58:05Z  2019-05-19T23:58:05Z   \n",
       "1  AWEKlA-LIxWefVJwxG9B  2018-01-18T18:30:23Z  2019-05-19T23:45:05Z   \n",
       "2  AWrSfAcYsVYjT2BJAzPt  2019-05-19T23:45:04Z  2019-05-19T23:45:04Z   \n",
       "3  AWrSa3NAQTFama1Xpkbz  2019-05-19T23:26:58Z  2019-05-19T23:26:58Z   \n",
       "4  AWrSaVGzZ4Yw-wtdgcaB  2019-05-19T23:24:38Z  2019-05-19T23:24:38Z   \n",
       "\n",
       "                 address                                         categories  \\\n",
       "0       2555 11th Avenue  Fast Food Restaurants,Hamburgers and Hot Dogs,...   \n",
       "1  2513 Highway 6 And 50  Restaurant,Mexican Restaurants,Fast Food Resta...   \n",
       "2    1125 Patterson Road  Sandwich Shops,Fast Food Restaurants,Restauran...   \n",
       "3    3455 N Salida Court  Fast Food Restaurants,Mexican Restaurants,Rest...   \n",
       "4   5225 E Colfax Avenue  Fast Food Restaurants,Mexican Restaurants,Rest...   \n",
       "\n",
       "               primaryCategories            city country  \\\n",
       "0  Accommodation & Food Services         Greeley      US   \n",
       "1  Accommodation & Food Services  Grand Junction      US   \n",
       "2  Accommodation & Food Services  Grand Junction      US   \n",
       "3  Accommodation & Food Services          Aurora      US   \n",
       "4  Accommodation & Food Services          Denver      US   \n",
       "\n",
       "                                                keys  latitude  longitude  \\\n",
       "0             us/co/greeley/255511thavenue/554191587  40.39629 -104.69699   \n",
       "1   us/co/grandjunction/2513highway6and50/1550891556  39.08135 -108.58689   \n",
       "2  us/co/grandjunction/1125pattersonroad/-2137447852  39.09148 -108.55411   \n",
       "3           us/co/aurora/3455nsalidacourt/1143321601  39.76369 -104.77671   \n",
       "4          us/co/denver/5225ecolfaxavenue/-864103396  39.74044 -104.92636   \n",
       "\n",
       "                     name postalCode province  \\\n",
       "0              Carl's Jr.      80631       CO   \n",
       "1                Del Taco      81505       CO   \n",
       "2              Which Wich      81506       CO   \n",
       "3  Chipotle Mexican Grill      80011       CO   \n",
       "4               Taco Bell      80220       CO   \n",
       "\n",
       "                                          sourceURLs  \\\n",
       "0  https://www.yellowpages.com/greeley-co/mip/car...   \n",
       "1  http://www.citysearch.com/profile/772076870/gr...   \n",
       "2  https://www.yellowpages.com/grand-junction-co/...   \n",
       "3  https://www.yellowpages.com/aurora-co/mip/chip...   \n",
       "4  https://www.yellowpages.com/denver-co/mip/taco...   \n",
       "\n",
       "                                            websites  \n",
       "0  https://www.carlsjr.com/?utm_source=Yextandutm...  \n",
       "1                             http://www.deltaco.com  \n",
       "2                           http://www.whichwich.com  \n",
       "3                            http://www.chipotle.com  \n",
       "4  https://locations.tacobell.com/co/denver/5225-...  "
      ]
     },
     "execution_count": 28,
     "metadata": {},
     "output_type": "execute_result"
    }
   ],
   "source": [
    "# Выведем датесет для проверки корректности загрузки\n",
    "\n",
    "df.head()"
   ]
  },
  {
   "cell_type": "code",
   "execution_count": 29,
   "metadata": {},
   "outputs": [
    {
     "data": {
      "text/plain": [
       "(10000, 16)"
      ]
     },
     "execution_count": 29,
     "metadata": {},
     "output_type": "execute_result"
    }
   ],
   "source": [
    "df.shape"
   ]
  },
  {
   "cell_type": "markdown",
   "metadata": {
    "id": "34eac597"
   },
   "source": [
    "В датафрейме df - 10000 записей и 16 колонок. Данные представляют собой информацию о заведениях общественного питания в США."
   ]
  },
  {
   "cell_type": "code",
   "execution_count": 30,
   "metadata": {
    "colab": {
     "base_uri": "https://localhost:8080/"
    },
    "executionInfo": {
     "elapsed": 260,
     "status": "ok",
     "timestamp": 1692331122423,
     "user": {
      "displayName": "Владислав Корнилов",
      "userId": "06643508509025628893"
     },
     "user_tz": -180
    },
    "id": "4e5d7bff",
    "outputId": "a640172d-89d6-4047-e606-3d03200c97e9"
   },
   "outputs": [
    {
     "name": "stdout",
     "output_type": "stream",
     "text": [
      "<class 'pandas.core.frame.DataFrame'>\n",
      "RangeIndex: 10000 entries, 0 to 9999\n",
      "Data columns (total 16 columns):\n",
      " #   Column             Non-Null Count  Dtype  \n",
      "---  ------             --------------  -----  \n",
      " 0   id                 10000 non-null  object \n",
      " 1   dateAdded          10000 non-null  object \n",
      " 2   dateUpdated        10000 non-null  object \n",
      " 3   address            10000 non-null  object \n",
      " 4   categories         10000 non-null  object \n",
      " 5   primaryCategories  10000 non-null  object \n",
      " 6   city               10000 non-null  object \n",
      " 7   country            10000 non-null  object \n",
      " 8   keys               10000 non-null  object \n",
      " 9   latitude           10000 non-null  float64\n",
      " 10  longitude          10000 non-null  float64\n",
      " 11  name               10000 non-null  object \n",
      " 12  postalCode         10000 non-null  object \n",
      " 13  province           10000 non-null  object \n",
      " 14  sourceURLs         10000 non-null  object \n",
      " 15  websites           9918 non-null   object \n",
      "dtypes: float64(2), object(14)\n",
      "memory usage: 1.2+ MB\n",
      "None\n",
      "-------------------------------------------\n",
      "Названия столбцов в датафрейме:  ['id', 'dateAdded', 'dateUpdated', 'address', 'categories', 'primaryCategories', 'city', 'country', 'keys', 'latitude', 'longitude', 'name', 'postalCode', 'province', 'sourceURLs', 'websites']\n"
     ]
    }
   ],
   "source": [
    "print(df.info())\n",
    "print('-------------------------------------------')\n",
    "print('Названия столбцов в датафрейме: ', list(df))"
   ]
  },
  {
   "cell_type": "code",
   "execution_count": 31,
   "metadata": {
    "colab": {
     "base_uri": "https://localhost:8080/"
    },
    "executionInfo": {
     "elapsed": 248,
     "status": "ok",
     "timestamp": 1692331134117,
     "user": {
      "displayName": "Владислав Корнилов",
      "userId": "06643508509025628893"
     },
     "user_tz": -180
    },
    "id": "61fe82a9",
    "outputId": "918d5578-89fb-4d7e-bd78-e96e20737f82"
   },
   "outputs": [
    {
     "data": {
      "text/plain": [
       "id                    0\n",
       "dateAdded             0\n",
       "dateUpdated           0\n",
       "address               0\n",
       "categories            0\n",
       "primaryCategories     0\n",
       "city                  0\n",
       "country               0\n",
       "keys                  0\n",
       "latitude              0\n",
       "longitude             0\n",
       "name                  0\n",
       "postalCode            0\n",
       "province              0\n",
       "sourceURLs            0\n",
       "websites             82\n",
       "dtype: int64"
      ]
     },
     "execution_count": 31,
     "metadata": {},
     "output_type": "execute_result"
    }
   ],
   "source": [
    "# Проверка на пропуски\n",
    "\n",
    "df.isnull().sum()"
   ]
  },
  {
   "cell_type": "code",
   "execution_count": 32,
   "metadata": {
    "colab": {
     "base_uri": "https://localhost:8080/"
    },
    "executionInfo": {
     "elapsed": 253,
     "status": "ok",
     "timestamp": 1692331139617,
     "user": {
      "displayName": "Владислав Корнилов",
      "userId": "06643508509025628893"
     },
     "user_tz": -180
    },
    "id": "6766eee8",
    "outputId": "24354005-9fcd-4524-9cb3-67ef32ac84ce"
   },
   "outputs": [
    {
     "data": {
      "text/plain": [
       "id                   0\n",
       "dateAdded            0\n",
       "dateUpdated          0\n",
       "address              0\n",
       "categories           0\n",
       "primaryCategories    0\n",
       "city                 0\n",
       "country              0\n",
       "keys                 0\n",
       "latitude             0\n",
       "longitude            0\n",
       "name                 0\n",
       "postalCode           0\n",
       "province             0\n",
       "sourceURLs           0\n",
       "websites             0\n",
       "dtype: int64"
      ]
     },
     "execution_count": 32,
     "metadata": {},
     "output_type": "execute_result"
    }
   ],
   "source": [
    "# Проверка на дубликаты\n",
    "\n",
    "df[df.duplicated()].count()"
   ]
  },
  {
   "cell_type": "markdown",
   "metadata": {
    "id": "07899fc3"
   },
   "source": [
    "###### Вывод:\n",
    "в загруженном датасете есть пропуски в столбце 'websites', дублирование данных отсутствует. Необходимо осуществить предобработку данных."
   ]
  },
  {
   "cell_type": "markdown",
   "metadata": {
    "id": "b42d19d4"
   },
   "source": [
    "### 2. Предобработка данных"
   ]
  },
  {
   "cell_type": "code",
   "execution_count": 33,
   "metadata": {
    "executionInfo": {
     "elapsed": 246,
     "status": "ok",
     "timestamp": 1692331172477,
     "user": {
      "displayName": "Владислав Корнилов",
      "userId": "06643508509025628893"
     },
     "user_tz": -180
    },
    "id": "b61d0268"
   },
   "outputs": [],
   "source": [
    "# Удалим из датасета столбцы, которые не интересны в рамках поставленной задачи.\n",
    "\n",
    "df = df.drop(['id', 'keys', 'country','sourceURLs', 'websites'], axis=1)"
   ]
  },
  {
   "cell_type": "code",
   "execution_count": 34,
   "metadata": {
    "colab": {
     "base_uri": "https://localhost:8080/",
     "height": 195
    },
    "executionInfo": {
     "elapsed": 237,
     "status": "ok",
     "timestamp": 1692331174480,
     "user": {
      "displayName": "Владислав Корнилов",
      "userId": "06643508509025628893"
     },
     "user_tz": -180
    },
    "id": "b8b8a31d",
    "outputId": "919ad6db-2e56-4981-ec43-d7088f90a075",
    "scrolled": true
   },
   "outputs": [
    {
     "data": {
      "text/html": [
       "<div>\n",
       "<style scoped>\n",
       "    .dataframe tbody tr th:only-of-type {\n",
       "        vertical-align: middle;\n",
       "    }\n",
       "\n",
       "    .dataframe tbody tr th {\n",
       "        vertical-align: top;\n",
       "    }\n",
       "\n",
       "    .dataframe thead th {\n",
       "        text-align: right;\n",
       "    }\n",
       "</style>\n",
       "<table border=\"1\" class=\"dataframe\">\n",
       "  <thead>\n",
       "    <tr style=\"text-align: right;\">\n",
       "      <th></th>\n",
       "      <th>dateAdded</th>\n",
       "      <th>dateUpdated</th>\n",
       "      <th>address</th>\n",
       "      <th>categories</th>\n",
       "      <th>primaryCategories</th>\n",
       "      <th>city</th>\n",
       "      <th>latitude</th>\n",
       "      <th>longitude</th>\n",
       "      <th>name</th>\n",
       "      <th>postalCode</th>\n",
       "      <th>province</th>\n",
       "    </tr>\n",
       "  </thead>\n",
       "  <tbody>\n",
       "    <tr>\n",
       "      <th>0</th>\n",
       "      <td>2019-05-19T23:58:05Z</td>\n",
       "      <td>2019-05-19T23:58:05Z</td>\n",
       "      <td>2555 11th Avenue</td>\n",
       "      <td>Fast Food Restaurants,Hamburgers and Hot Dogs,...</td>\n",
       "      <td>Accommodation &amp; Food Services</td>\n",
       "      <td>Greeley</td>\n",
       "      <td>40.39629</td>\n",
       "      <td>-104.69699</td>\n",
       "      <td>Carl's Jr.</td>\n",
       "      <td>80631</td>\n",
       "      <td>CO</td>\n",
       "    </tr>\n",
       "    <tr>\n",
       "      <th>1</th>\n",
       "      <td>2018-01-18T18:30:23Z</td>\n",
       "      <td>2019-05-19T23:45:05Z</td>\n",
       "      <td>2513 Highway 6 And 50</td>\n",
       "      <td>Restaurant,Mexican Restaurants,Fast Food Resta...</td>\n",
       "      <td>Accommodation &amp; Food Services</td>\n",
       "      <td>Grand Junction</td>\n",
       "      <td>39.08135</td>\n",
       "      <td>-108.58689</td>\n",
       "      <td>Del Taco</td>\n",
       "      <td>81505</td>\n",
       "      <td>CO</td>\n",
       "    </tr>\n",
       "    <tr>\n",
       "      <th>2</th>\n",
       "      <td>2019-05-19T23:45:04Z</td>\n",
       "      <td>2019-05-19T23:45:04Z</td>\n",
       "      <td>1125 Patterson Road</td>\n",
       "      <td>Sandwich Shops,Fast Food Restaurants,Restauran...</td>\n",
       "      <td>Accommodation &amp; Food Services</td>\n",
       "      <td>Grand Junction</td>\n",
       "      <td>39.09148</td>\n",
       "      <td>-108.55411</td>\n",
       "      <td>Which Wich</td>\n",
       "      <td>81506</td>\n",
       "      <td>CO</td>\n",
       "    </tr>\n",
       "  </tbody>\n",
       "</table>\n",
       "</div>"
      ],
      "text/plain": [
       "              dateAdded           dateUpdated                address  \\\n",
       "0  2019-05-19T23:58:05Z  2019-05-19T23:58:05Z       2555 11th Avenue   \n",
       "1  2018-01-18T18:30:23Z  2019-05-19T23:45:05Z  2513 Highway 6 And 50   \n",
       "2  2019-05-19T23:45:04Z  2019-05-19T23:45:04Z    1125 Patterson Road   \n",
       "\n",
       "                                          categories  \\\n",
       "0  Fast Food Restaurants,Hamburgers and Hot Dogs,...   \n",
       "1  Restaurant,Mexican Restaurants,Fast Food Resta...   \n",
       "2  Sandwich Shops,Fast Food Restaurants,Restauran...   \n",
       "\n",
       "               primaryCategories            city  latitude  longitude  \\\n",
       "0  Accommodation & Food Services         Greeley  40.39629 -104.69699   \n",
       "1  Accommodation & Food Services  Grand Junction  39.08135 -108.58689   \n",
       "2  Accommodation & Food Services  Grand Junction  39.09148 -108.55411   \n",
       "\n",
       "         name postalCode province  \n",
       "0  Carl's Jr.      80631       CO  \n",
       "1    Del Taco      81505       CO  \n",
       "2  Which Wich      81506       CO  "
      ]
     },
     "execution_count": 34,
     "metadata": {},
     "output_type": "execute_result"
    }
   ],
   "source": [
    "df.head(3)"
   ]
  },
  {
   "cell_type": "code",
   "execution_count": 35,
   "metadata": {},
   "outputs": [
    {
     "data": {
      "text/plain": [
       "(10000, 11)"
      ]
     },
     "execution_count": 35,
     "metadata": {},
     "output_type": "execute_result"
    }
   ],
   "source": [
    "df.shape"
   ]
  },
  {
   "cell_type": "markdown",
   "metadata": {
    "id": "7037e19c"
   },
   "source": [
    "В обновленном датасете получилось 10000 строк и 11 колонок со следующей информацией:\n",
    "\n",
    "1 столбец с названиями ресторанов: [name]\n",
    "\n",
    "2 столбца с датами: [dateAdded, dateUpdated]\n",
    "\n",
    "2 столбца с категориями ресторанов: [categories, primaryCategories]\n",
    "\n",
    "6 колонок, относящиеся к локации ресторанов: [address, city, latitude, longtitude, postalCode, province]"
   ]
  },
  {
   "cell_type": "code",
   "execution_count": 36,
   "metadata": {
    "colab": {
     "base_uri": "https://localhost:8080/"
    },
    "executionInfo": {
     "elapsed": 255,
     "status": "ok",
     "timestamp": 1692331330822,
     "user": {
      "displayName": "Владислав Корнилов",
      "userId": "06643508509025628893"
     },
     "user_tz": -180
    },
    "id": "9e47b45d",
    "outputId": "2520b748-4370-4bfa-a6d5-04b2714e10d0"
   },
   "outputs": [
    {
     "data": {
      "text/plain": [
       "array(['CO', 'AR', 'AK', 'OR', 'NY', 'NE', 'AL', 'FL', 'MS', 'GA', 'OH',\n",
       "       'IN', 'CA', 'AZ', 'IL', 'MI', 'KY', 'HI', 'TN', 'PA', 'SC', 'TX',\n",
       "       'MD', 'VA', 'WA', 'DC', 'MO', 'WV', 'IA', 'NV', 'KS', 'ID', 'WI',\n",
       "       'UT', 'NC', 'WY', 'OK', 'DE', 'MN', 'SD', 'NM', 'MT', 'ND', 'LA',\n",
       "       'MA', 'CT', 'NJ'], dtype=object)"
      ]
     },
     "execution_count": 36,
     "metadata": {},
     "output_type": "execute_result"
    }
   ],
   "source": [
    "# Посмотрим как в датасете обозначены провинции, чтобы в дальнейшем выбрать нужные нам в рамках кейса\n",
    "df['province'].unique()"
   ]
  },
  {
   "cell_type": "code",
   "execution_count": 37,
   "metadata": {
    "executionInfo": {
     "elapsed": 315,
     "status": "ok",
     "timestamp": 1692331340249,
     "user": {
      "displayName": "Владислав Корнилов",
      "userId": "06643508509025628893"
     },
     "user_tz": -180
    },
    "id": "98ef1a9e"
   },
   "outputs": [],
   "source": [
    "# Произведем фильтрацию по городам и провинциям, создадим датасет только с интересующими нас городами.\n",
    "\n",
    "df_Columbus = df[(df['city'] == 'Columbus') & (df['province'] == 'OH')]\n",
    "df_Cincinnati = df[(df['city'] == 'Cincinnati') & (df['province'] == 'OH')]\n",
    "df_Cleveland = df[(df['city'] == 'Cleveland') & (df['province'] == 'OH')]\n",
    "df_Las_Vegas = df[(df['city'] == 'Las Vegas') & (df['province'] == 'NV')]\n",
    "df_Miami = df[(df['city'] == 'Miami') & (df['province'] == 'FL')]\n",
    "df_Indianapolis = df[(df['city'] == 'Indianapolis') & (df['province'] == 'IN')]\n",
    "df_Birmingham = df[(df['city'] == 'Birmingham') & (df['province'] == 'AL')]\n",
    "df_Portland = df[(df['city'] == 'Portland') & (df['province'] == 'OR')]\n",
    "\n",
    "df_main = pd.concat([df_Columbus, df_Cincinnati, df_Cleveland, df_Las_Vegas, df_Miami, df_Indianapolis, df_Birmingham, df_Portland])"
   ]
  },
  {
   "cell_type": "markdown",
   "metadata": {},
   "source": [
    "##### Вывод: \n",
    "Из датасета с информацией по ресторанам США за 2019г. были удалены ряд столбцов и произведена фильтрация и отбор ресторанов по 8 городам из рассматриваемого списка."
   ]
  },
  {
   "cell_type": "markdown",
   "metadata": {},
   "source": [
    "### 3. Описание и анализ данных"
   ]
  },
  {
   "cell_type": "code",
   "execution_count": 38,
   "metadata": {
    "colab": {
     "base_uri": "https://localhost:8080/"
    },
    "executionInfo": {
     "elapsed": 241,
     "status": "ok",
     "timestamp": 1692331371451,
     "user": {
      "displayName": "Владислав Корнилов",
      "userId": "06643508509025628893"
     },
     "user_tz": -180
    },
    "id": "b998037d",
    "outputId": "9d9e2446-a12c-4d5b-a3ee-b9bf4c305e36"
   },
   "outputs": [
    {
     "name": "stdout",
     "output_type": "stream",
     "text": [
      "<class 'pandas.core.frame.DataFrame'>\n",
      "Int64Index: 514 entries, 2119 to 9899\n",
      "Data columns (total 11 columns):\n",
      " #   Column             Non-Null Count  Dtype  \n",
      "---  ------             --------------  -----  \n",
      " 0   dateAdded          514 non-null    object \n",
      " 1   dateUpdated        514 non-null    object \n",
      " 2   address            514 non-null    object \n",
      " 3   categories         514 non-null    object \n",
      " 4   primaryCategories  514 non-null    object \n",
      " 5   city               514 non-null    object \n",
      " 6   latitude           514 non-null    float64\n",
      " 7   longitude          514 non-null    float64\n",
      " 8   name               514 non-null    object \n",
      " 9   postalCode         514 non-null    object \n",
      " 10  province           514 non-null    object \n",
      "dtypes: float64(2), object(9)\n",
      "memory usage: 48.2+ KB\n"
     ]
    }
   ],
   "source": [
    "# посмотреть на данные методом .info()\n",
    "\n",
    "df_main.info()"
   ]
  },
  {
   "cell_type": "markdown",
   "metadata": {},
   "source": [
    "В новом датасете 514 строк, 11 колонок. Данные представлены в полном объеме, без пропусков. Тип данных - float64 и object."
   ]
  },
  {
   "cell_type": "code",
   "execution_count": 39,
   "metadata": {
    "colab": {
     "base_uri": "https://localhost:8080/"
    },
    "executionInfo": {
     "elapsed": 316,
     "status": "ok",
     "timestamp": 1692331375171,
     "user": {
      "displayName": "Владислав Корнилов",
      "userId": "06643508509025628893"
     },
     "user_tz": -180
    },
    "id": "7bd6d6a9",
    "outputId": "f2e41f14-9d47-4d4e-bcb3-42996fa9533a"
   },
   "outputs": [
    {
     "data": {
      "text/plain": [
       "city\n",
       "Birmingham      68\n",
       "Cincinnati      60\n",
       "Cleveland       50\n",
       "Columbus        90\n",
       "Indianapolis    94\n",
       "Las Vegas       54\n",
       "Miami           46\n",
       "Portland        52\n",
       "Name: name, dtype: int64"
      ]
     },
     "execution_count": 39,
     "metadata": {},
     "output_type": "execute_result"
    }
   ],
   "source": [
    "# Выведем количество ресторанов по городам:\n",
    "\n",
    "df_city_count = df_main.groupby(['city']).count()\n",
    "df_city_count['name']"
   ]
  },
  {
   "cell_type": "code",
   "execution_count": 64,
   "metadata": {
    "colab": {
     "base_uri": "https://localhost:8080/",
     "height": 543
    },
    "executionInfo": {
     "elapsed": 737,
     "status": "ok",
     "timestamp": 1692332810179,
     "user": {
      "displayName": "Владислав Корнилов",
      "userId": "06643508509025628893"
     },
     "user_tz": -180
    },
    "id": "107544e6",
    "outputId": "6bbc1d63-4779-46ae-f902-4a72fa843fb6"
   },
   "outputs": [
    {
     "data": {
      "image/png": "[encoded data removed]",
      "text/plain": [
       "<Figure size 432x288 with 1 Axes>"
      ]
     },
     "metadata": {
      "needs_background": "light"
     },
     "output_type": "display_data"
    }
   ],
   "source": [
    "# Построим график с количеством ресторанов по каждому городу\n",
    "\n",
    "name_count = df_city_count['name'].plot.bar(title='Количество ресторанов в рассматриваемых городах')\n",
    "name_count.set_xlabel('Город',size=10)\n",
    "name_count.set_ylabel('Количество',size=10)\n",
    "for i, count in enumerate(df_city_count['name']):\n",
    "    name_count.text(i, count, str(count), ha='center', va='bottom', fontsize=10)"
   ]
  },
  {
   "cell_type": "markdown",
   "metadata": {},
   "source": [
    "Мы видим, что по количеству ресторанов лидируют Indianapolis и Columbus."
   ]
  },
  {
   "cell_type": "markdown",
   "metadata": {
    "id": "684c20ff"
   },
   "source": [
    "##### Рассчитаем плотность расположения ресторанов по городам"
   ]
  },
  {
   "cell_type": "code",
   "execution_count": 41,
   "metadata": {
    "executionInfo": {
     "elapsed": 363,
     "status": "ok",
     "timestamp": 1692332020245,
     "user": {
      "displayName": "Владислав Корнилов",
      "userId": "06643508509025628893"
     },
     "user_tz": -180
    },
    "id": "00826e20"
   },
   "outputs": [],
   "source": [
    "# Создадим фреймы с необходимой информацией для расчетов\n",
    "\n",
    "cities = [\"Columbus\", \"Cincinnati\", \"Cleveland\", \"Las Vegas\", \"Miami\", \"Indianapolis\", \"Birmingham\", \"Portland\"]\n",
    "population_2019 = {\"Columbus\": 899_908, \"Cincinnati\": 304_445, \"Cleveland\": 381_386,\n",
    "                        \"Las Vegas\": 653_963, \"Miami\": 467_103, \"Indianapolis\": 875_694,\n",
    "                        \"Birmingham\": 208_889, \"Portland\": 654_378}\n",
    "city_square = {\"Columbus\": 586, \"Cincinnati\": 206.3, \"Cleveland\": 213.6,\n",
    "                             \"Las Vegas\": 352, \"Miami\": 143.1, \"Indianapolis\": 953,\n",
    "                             \"Birmingham\": 387.3, \"Portland\": 375.6}"
   ]
  },
  {
   "cell_type": "code",
   "execution_count": 42,
   "metadata": {
    "executionInfo": {
     "elapsed": 354,
     "status": "ok",
     "timestamp": 1692332053811,
     "user": {
      "displayName": "Владислав Корнилов",
      "userId": "06643508509025628893"
     },
     "user_tz": -180
    },
    "id": "acba598a"
   },
   "outputs": [],
   "source": [
    "# Создание списков для диаграмм\n",
    "\n",
    "density_area_list = []\n",
    "density_restaurants_list = []\n",
    "density_population_list = []\n",
    "\n",
    "# Рассчет плотности расположения ресторанов по городам\n",
    "for city in cities:\n",
    "    restaurants = df_main[(df_main['city'] == city)] # Получаем рестораны в конкретном городе\n",
    "    count = len(restaurants) # Выводим количество ресторанов в городе\n",
    "    area = city_square[city] # Площадь города в км^2\n",
    "    city_population = population_2019[city] # Численность населения\n",
    "\n",
    "    # Рассчет плотности по формулам\n",
    "    density_area = count / area\n",
    "    density_restaurants = (count / city_population) * 1000\n",
    "    density_population = city_population / area\n",
    "\n",
    "    # Добавляем рассчитанные значения в списки\n",
    "    density_area_list.append(density_area)\n",
    "    density_restaurants_list.append(density_restaurants)\n",
    "    density_population_list.append(density_population)"
   ]
  },
  {
   "cell_type": "markdown",
   "metadata": {
    "id": "c0a79990"
   },
   "source": [
    "Представим графически плотность ресторанов, потенциальную ёмкость рынка и плотность населения по городам"
   ]
  },
  {
   "cell_type": "code",
   "execution_count": 43,
   "metadata": {
    "colab": {
     "base_uri": "https://localhost:8080/",
     "height": 538
    },
    "executionInfo": {
     "elapsed": 1042,
     "status": "ok",
     "timestamp": 1692332065210,
     "user": {
      "displayName": "Владислав Корнилов",
      "userId": "06643508509025628893"
     },
     "user_tz": -180
    },
    "id": "6eb3d909",
    "outputId": "a44f4482-6b92-4392-a89e-ad867d9407c2"
   },
   "outputs": [
    {
     "data": {
      "image/png": "[encoded data removed]",
      "text/plain": [
       "<Figure size 1080x360 with 3 Axes>"
      ]
     },
     "metadata": {
      "needs_background": "light"
     },
     "output_type": "display_data"
    }
   ],
   "source": [
    "# Объединение списков в один список кортежей\n",
    "plt_data = list(zip(cities, density_area_list, density_restaurants_list, density_population_list))\n",
    "# Создание датафрейма\n",
    "plt_df = pd.DataFrame(plt_data, columns=['City', 'Density Area', 'Density Restaurants', 'Density Population'])\n",
    "\n",
    "# Сортировка столбцов по убыванию\n",
    "sorted_area = plt_df.sort_values(by='Density Area', ascending=False)\n",
    "sorted_restaurants = plt_df.sort_values(by='Density Restaurants', ascending=False)\n",
    "sorted_population = plt_df.sort_values(by='Density Population', ascending=False)\n",
    "\n",
    "# Вывод трех диаграмм\n",
    "fig, axs = plt.subplots(1, 3, figsize = (15, 5))\n",
    "\n",
    "axs[0].bar(sorted_area['City'], sorted_area['Density Area'])\n",
    "axs[0].set_title('Количество ресторанов на км²')\n",
    "axs[0].tick_params(axis='x', rotation=90)\n",
    "\n",
    "axs[1].bar(sorted_restaurants['City'], sorted_restaurants['Density Restaurants'])\n",
    "axs[1].set_title('Количество ресторанов на 1000 человек')\n",
    "axs[1].tick_params(axis='x', rotation=90)\n",
    "\n",
    "axs[2].bar(sorted_population['City'], sorted_population['Density Population'])\n",
    "axs[2].set_title('Плотность населения на км²')\n",
    "axs[2].tick_params(axis='x', rotation=90)"
   ]
  },
  {
   "cell_type": "markdown",
   "metadata": {},
   "source": [
    "Из графиков мы видим, что, например, Miami лидирует по количеству ресторанов на квадратный км и плотности населения, при этом количество ресторанов на количество проживающих жителей недостаточно. То есть рынок Майами перспективный для входа."
   ]
  },
  {
   "cell_type": "markdown",
   "metadata": {},
   "source": [
    "### 4. Выбор городов и районов для открытия ресторанов"
   ]
  },
  {
   "cell_type": "markdown",
   "metadata": {},
   "source": [
    "#### 4.1. Произведем выбор городов по результатам юнит-экономики и плотности ресторанов"
   ]
  },
  {
   "cell_type": "code",
   "execution_count": 44,
   "metadata": {
    "id": "19f406b2",
    "outputId": "70fe0822-6c63-4f7f-b5b6-c88d3b1306aa",
    "scrolled": true
   },
   "outputs": [
    {
     "data": {
      "image/png": "[encoded data removed]",
      "text/plain": [
       "<Figure size 432x288 with 1 Axes>"
      ]
     },
     "metadata": {
      "needs_background": "light"
     },
     "output_type": "display_data"
    }
   ],
   "source": [
    "# Ранжирование городов по критериям: средняя прибыль на 1 заказ и плотность ресторанов с весом 0.5 каждый.\n",
    "\n",
    "unit_economics = [1.90202730952381, 3.0678460952381, 3.62469897222222, -0.50237038095238, 0.545637511904761, 1.964543, \n",
    "                  1.28107396428571, 4.89655533333333] # Создаем список из значений юнит-экономики\n",
    "df_choice_city = pd.DataFrame(list(zip(cities, unit_economics, density_area_list,)), \n",
    "                              columns=['City', 'Unit economics', 'Density Area',]) # Создаем датафрейм для рассчета баллов\n",
    "\n",
    "df_choice_city[\"Final score\"] = df_choice_city.apply(lambda row: (row[\"Unit economics\"]*0.5) + (row[\"Density Area\"]*0.5), \n",
    "                                                     axis=1) # Рассчитываем баллы\n",
    "df_choice_city.sort_values(by = \"Final score\", inplace = True, ascending= False) # Сортировка от наибольшего балла к наименьшему\n",
    "\n",
    "plt.bar(df_choice_city['City'], df_choice_city[\"Final score\"]) # Строим график\n",
    "plt.title('Рекомендуемые города для открытия - Portland, Cleveland, Cincinnati')\n",
    "plt.tick_params(axis='x', rotation=90)"
   ]
  },
  {
   "cell_type": "markdown",
   "metadata": {
    "id": "c2d82434"
   },
   "source": [
    "##### Вывод: \n",
    "\n",
    "предлагаем рассматривать все города для открытия российской сети фаст-фудов, но разделить на 3 этапа входа на рынок США.\n",
    "\n",
    "1 этап: Portland, Cleveland, Cincinnati\n",
    "\n",
    "2 этап: Indianapolis, Columbus, Birmingham\n",
    "\n",
    "3 этап: Miami, Las Vegas.\n",
    "\n",
    "\n",
    "##### Комментарии:\n",
    "\n",
    "1 этап поможет зайти на рынок более удачно с концепцией, зарекомендовавшей себя на российском рынке.\n",
    "\n",
    "В рамках 2 этапа нужно доработать незначительно концепцию, например, исключив несколько позиций из основного меню, добавив больше десертов.\n",
    "\n",
    "В рамках 3 этапа нужно значительно изменить меню, поработать над новой концепцией. Но не стоит сразу исключать эти города из списка для открытия своих ресторанов, т.к. в рамках анализа мы увидили их перспективность."
   ]
  },
  {
   "cell_type": "markdown",
   "metadata": {},
   "source": [
    "#### 4.2. Анализ районов городов в рамках 1 этапа"
   ]
  },
  {
   "cell_type": "markdown",
   "metadata": {},
   "source": [
    "Выбор районов осуществляется по ряду критериев: \n",
    "\n",
    "- плотность ресторанов по районам;\n",
    "- потенциальная ёмкость рынка;\n",
    "- доходность населения.\n",
    "\n",
    "Наилучшими условиями для открытия кафе будет высокая плотность платежеспособного населения и, одновременно, наименьшее количество ресторанов, приходящихся на 1000 чел. при низкой конкуренции."
   ]
  },
  {
   "cell_type": "markdown",
   "metadata": {},
   "source": [
    "Определим приоритетность районов для открытия ресторанов"
   ]
  },
  {
   "cell_type": "code",
   "execution_count": 45,
   "metadata": {},
   "outputs": [],
   "source": [
    "# Функция для нахождения количества ресторанов в каждом районе\n",
    "\n",
    "def restaurants_count(name_city):\n",
    "    data = pd.DataFrame(df_main[df_main['city'] == name_city].value_counts('postalCode')) # Находим количество ресторанов в каждом районе\n",
    "    data.reset_index(inplace=True) # Изменяем индекс\n",
    "    data.rename(columns = {0:'Count restaurants'}, inplace=True) # Изменяем название колонки\n",
    "    return data"
   ]
  },
  {
   "cell_type": "code",
   "execution_count": 46,
   "metadata": {},
   "outputs": [],
   "source": [
    "# Функция для расчета оценок районов \n",
    "\n",
    "def calculation_score(file_name, data_count):\n",
    "    data = pd.read_csv(file_name) # Загружаем файл с отобранной информацией о медианном доходе, площади в ми² и численности населения, в разрезе районов города\n",
    "    data['postalCode'] = data['postalCode'].astype('str') # Меняем тип данных по столбцу postalCode\n",
    "\n",
    "    data = pd.merge(data, data_count, on = 'postalCode', how = 'left') # Добовляем информацию о количестве ресторан\n",
    "\n",
    "    data[\"Density Area\"] = data.apply(lambda row: row[\"Count restaurants\"]/row[\"Area\"], axis=1) # Расчет плотности ресторанов на ми²\n",
    "    data[\"Passability\"] = data.apply(lambda row: row[\"Population\"]/row[\"Count restaurants\"], axis=1) # Расчет условной ёмкости рынка\n",
    "    data[\"Final score\"] = data.apply(lambda row: (row[\"medianIncome\"]*0.4) + (row[\"Passability\"]*0.25) + (row[\"Density Area\"]*0.35), \n",
    "                                                         axis=1) # Рассчитываем баллы по каждому району\n",
    "    data.sort_values(by = \"Final score\", inplace = True, ascending= False) # Сортировка от наибольшего балла к наименьшему\n",
    "    return data"
   ]
  },
  {
   "cell_type": "code",
   "execution_count": 47,
   "metadata": {},
   "outputs": [
    {
     "name": "stderr",
     "output_type": "stream",
     "text": [
      "<ipython-input-47-2f44c6b9166f>:3: SettingWithCopyWarning: \n",
      "A value is trying to be set on a copy of a slice from a DataFrame\n",
      "\n",
      "See the caveats in the documentation: https://pandas.pydata.org/pandas-docs/stable/user_guide/indexing.html#returning-a-view-versus-a-copy\n",
      "  count_Portland['postalCode'][22] = '97239' # Изменияем значение postalCode\n"
     ]
    }
   ],
   "source": [
    "# Отбор районов в Portland\n",
    "count_Portland = restaurants_count('Portland') # Запускаем функцию restaurants_count\n",
    "count_Portland['postalCode'][22] = '97239' # Изменияем значение postalCode\n",
    "\n",
    "Portland_score = calculation_score('Portland.csv', count_Portland) # Запускаем функцию calculation_score\n",
    "\n",
    "\n",
    "# Отбор районов в Cleveland\n",
    "count_Cleveland = restaurants_count('Cleveland') # Запускаем функцию restaurants_count\n",
    "count_Cleveland.drop(index=13, inplace=True) # Удаляем район 44195 \n",
    "\n",
    "Cleveland_score = calculation_score('Cleveland.csv', count_Cleveland) # Запускаем функцию calculation_score\n",
    "\n",
    "\n",
    "# Отбор районов в Cincinnati\n",
    "count_Cincinnati = restaurants_count('Cincinnati') # Запускаем функцию restaurants_count\n",
    "count_Cincinnati.drop(index=20, inplace=True) # Удаляем район 45219-1309 \n",
    "\n",
    "Cincinnati_score = calculation_score('Cincinnati.csv', count_Cincinnati) # Запускаем функцию calculation_score"
   ]
  },
  {
   "cell_type": "code",
   "execution_count": 48,
   "metadata": {},
   "outputs": [
    {
     "data": {
      "image/png": "[encoded data removed]",
      "text/plain": [
       "<Figure size 1080x360 with 3 Axes>"
      ]
     },
     "metadata": {
      "needs_background": "light"
     },
     "output_type": "display_data"
    }
   ],
   "source": [
    "# Вывод трех диаграмм\n",
    "fig, axs = plt.subplots(1, 3, figsize = (15, 5))\n",
    "\n",
    "axs[0].bar(Portland_score['postalCode'], Portland_score[\"Final score\"])\n",
    "axs[0].set_title('Приоритетность по  районом в Portland')\n",
    "axs[0].tick_params(axis='x', rotation=90)\n",
    "\n",
    "axs[1].bar(Cleveland_score['postalCode'], Cleveland_score[\"Final score\"])\n",
    "axs[1].set_title('Приоритетность по районам в Cleveland')\n",
    "axs[1].tick_params(axis='x', rotation=90)\n",
    "\n",
    "axs[2].bar(Cincinnati_score['postalCode'], Cincinnati_score[\"Final score\"])\n",
    "axs[2].set_title('Приоритетность по  районом в Cincinnati')\n",
    "axs[2].tick_params(axis='x', rotation=90)"
   ]
  },
  {
   "cell_type": "markdown",
   "metadata": {},
   "source": [
    "##### Вывод\n",
    "\n",
    "согласно нашим критериям отбора и проведеному анализу рекомендовано в тестовом варианте открыть рестораны в следующих районах (представлены postalcode):\n",
    "\n",
    "1) для Portland: 97239, 97229, 97210;\n",
    "\n",
    "2) для Cleveland: 44109, 44124, 44128, 44129;\n",
    "\n",
    "3) для Cincinnati: 45249, 45230, 45202, 45242"
   ]
  }
 ],
 "metadata": {
  "colab": {
   "provenance": []
  },
  "kernelspec": {
   "display_name": "Python 3",
   "language": "python",
   "name": "python3"
  },
  "language_info": {
   "codemirror_mode": {
    "name": "ipython",
    "version": 3
   },
   "file_extension": ".py",
   "mimetype": "text/x-python",
   "name": "python",
   "nbconvert_exporter": "python",
   "pygments_lexer": "ipython3",
   "version": "3.8.5"
  }
 },
 "nbformat": 4,
 "nbformat_minor": 5
}
